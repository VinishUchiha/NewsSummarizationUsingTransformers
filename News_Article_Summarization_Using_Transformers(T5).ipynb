{
  "nbformat": 4,
  "nbformat_minor": 0,
  "metadata": {
    "colab": {
      "name": "News_Article_Summarization_Using_Transformers(T5)",
      "provenance": [],
      "include_colab_link": true
    },
    "kernelspec": {
      "name": "python3",
      "display_name": "Python 3"
    },
    "accelerator": "GPU",
    "widgets": {
      "application/vnd.jupyter.widget-state+json": {
        "639b4e494663425db9a2acc08fe059b6": {
          "model_module": "@jupyter-widgets/controls",
          "model_name": "HBoxModel",
          "state": {
            "_view_name": "HBoxView",
            "_dom_classes": [],
            "_model_name": "HBoxModel",
            "_view_module": "@jupyter-widgets/controls",
            "_model_module_version": "1.5.0",
            "_view_count": null,
            "_view_module_version": "1.5.0",
            "box_style": "",
            "layout": "IPY_MODEL_213fde7070564c3fad5013bf1c579585",
            "_model_module": "@jupyter-widgets/controls",
            "children": [
              "IPY_MODEL_84d7576a64054e68864a17fea96386ea",
              "IPY_MODEL_797542d7249a4088a6ffe5b783146e0b"
            ]
          }
        },
        "213fde7070564c3fad5013bf1c579585": {
          "model_module": "@jupyter-widgets/base",
          "model_name": "LayoutModel",
          "state": {
            "_view_name": "LayoutView",
            "grid_template_rows": null,
            "right": null,
            "justify_content": null,
            "_view_module": "@jupyter-widgets/base",
            "overflow": null,
            "_model_module_version": "1.2.0",
            "_view_count": null,
            "flex_flow": null,
            "width": null,
            "min_width": null,
            "border": null,
            "align_items": null,
            "bottom": null,
            "_model_module": "@jupyter-widgets/base",
            "top": null,
            "grid_column": null,
            "overflow_y": null,
            "overflow_x": null,
            "grid_auto_flow": null,
            "grid_area": null,
            "grid_template_columns": null,
            "flex": null,
            "_model_name": "LayoutModel",
            "justify_items": null,
            "grid_row": null,
            "max_height": null,
            "align_content": null,
            "visibility": null,
            "align_self": null,
            "height": null,
            "min_height": null,
            "padding": null,
            "grid_auto_rows": null,
            "grid_gap": null,
            "max_width": null,
            "order": null,
            "_view_module_version": "1.2.0",
            "grid_template_areas": null,
            "object_position": null,
            "object_fit": null,
            "grid_auto_columns": null,
            "margin": null,
            "display": null,
            "left": null
          }
        },
        "84d7576a64054e68864a17fea96386ea": {
          "model_module": "@jupyter-widgets/controls",
          "model_name": "FloatProgressModel",
          "state": {
            "_view_name": "ProgressView",
            "style": "IPY_MODEL_9f37ca9406e84122a7158557ac6af039",
            "_dom_classes": [],
            "description": "Downloading: 100%",
            "_model_name": "FloatProgressModel",
            "bar_style": "success",
            "max": 1200,
            "_view_module": "@jupyter-widgets/controls",
            "_model_module_version": "1.5.0",
            "value": 1200,
            "_view_count": null,
            "_view_module_version": "1.5.0",
            "orientation": "horizontal",
            "min": 0,
            "description_tooltip": null,
            "_model_module": "@jupyter-widgets/controls",
            "layout": "IPY_MODEL_e2cc14babf7547598c3aedbb20c533e4"
          }
        },
        "797542d7249a4088a6ffe5b783146e0b": {
          "model_module": "@jupyter-widgets/controls",
          "model_name": "HTMLModel",
          "state": {
            "_view_name": "HTMLView",
            "style": "IPY_MODEL_518d679a93e04674afb97824500df5c0",
            "_dom_classes": [],
            "description": "",
            "_model_name": "HTMLModel",
            "placeholder": "​",
            "_view_module": "@jupyter-widgets/controls",
            "_model_module_version": "1.5.0",
            "value": " 1.20k/1.20k [00:00&lt;00:00, 1.29kB/s]",
            "_view_count": null,
            "_view_module_version": "1.5.0",
            "description_tooltip": null,
            "_model_module": "@jupyter-widgets/controls",
            "layout": "IPY_MODEL_d9f653a48a354d61afcc02f741f315ea"
          }
        },
        "9f37ca9406e84122a7158557ac6af039": {
          "model_module": "@jupyter-widgets/controls",
          "model_name": "ProgressStyleModel",
          "state": {
            "_view_name": "StyleView",
            "_model_name": "ProgressStyleModel",
            "description_width": "initial",
            "_view_module": "@jupyter-widgets/base",
            "_model_module_version": "1.5.0",
            "_view_count": null,
            "_view_module_version": "1.2.0",
            "bar_color": null,
            "_model_module": "@jupyter-widgets/controls"
          }
        },
        "e2cc14babf7547598c3aedbb20c533e4": {
          "model_module": "@jupyter-widgets/base",
          "model_name": "LayoutModel",
          "state": {
            "_view_name": "LayoutView",
            "grid_template_rows": null,
            "right": null,
            "justify_content": null,
            "_view_module": "@jupyter-widgets/base",
            "overflow": null,
            "_model_module_version": "1.2.0",
            "_view_count": null,
            "flex_flow": null,
            "width": null,
            "min_width": null,
            "border": null,
            "align_items": null,
            "bottom": null,
            "_model_module": "@jupyter-widgets/base",
            "top": null,
            "grid_column": null,
            "overflow_y": null,
            "overflow_x": null,
            "grid_auto_flow": null,
            "grid_area": null,
            "grid_template_columns": null,
            "flex": null,
            "_model_name": "LayoutModel",
            "justify_items": null,
            "grid_row": null,
            "max_height": null,
            "align_content": null,
            "visibility": null,
            "align_self": null,
            "height": null,
            "min_height": null,
            "padding": null,
            "grid_auto_rows": null,
            "grid_gap": null,
            "max_width": null,
            "order": null,
            "_view_module_version": "1.2.0",
            "grid_template_areas": null,
            "object_position": null,
            "object_fit": null,
            "grid_auto_columns": null,
            "margin": null,
            "display": null,
            "left": null
          }
        },
        "518d679a93e04674afb97824500df5c0": {
          "model_module": "@jupyter-widgets/controls",
          "model_name": "DescriptionStyleModel",
          "state": {
            "_view_name": "StyleView",
            "_model_name": "DescriptionStyleModel",
            "description_width": "",
            "_view_module": "@jupyter-widgets/base",
            "_model_module_version": "1.5.0",
            "_view_count": null,
            "_view_module_version": "1.2.0",
            "_model_module": "@jupyter-widgets/controls"
          }
        },
        "d9f653a48a354d61afcc02f741f315ea": {
          "model_module": "@jupyter-widgets/base",
          "model_name": "LayoutModel",
          "state": {
            "_view_name": "LayoutView",
            "grid_template_rows": null,
            "right": null,
            "justify_content": null,
            "_view_module": "@jupyter-widgets/base",
            "overflow": null,
            "_model_module_version": "1.2.0",
            "_view_count": null,
            "flex_flow": null,
            "width": null,
            "min_width": null,
            "border": null,
            "align_items": null,
            "bottom": null,
            "_model_module": "@jupyter-widgets/base",
            "top": null,
            "grid_column": null,
            "overflow_y": null,
            "overflow_x": null,
            "grid_auto_flow": null,
            "grid_area": null,
            "grid_template_columns": null,
            "flex": null,
            "_model_name": "LayoutModel",
            "justify_items": null,
            "grid_row": null,
            "max_height": null,
            "align_content": null,
            "visibility": null,
            "align_self": null,
            "height": null,
            "min_height": null,
            "padding": null,
            "grid_auto_rows": null,
            "grid_gap": null,
            "max_width": null,
            "order": null,
            "_view_module_version": "1.2.0",
            "grid_template_areas": null,
            "object_position": null,
            "object_fit": null,
            "grid_auto_columns": null,
            "margin": null,
            "display": null,
            "left": null
          }
        },
        "7df3a1706dcd4e8e8d14a7ef53b8f6d2": {
          "model_module": "@jupyter-widgets/controls",
          "model_name": "HBoxModel",
          "state": {
            "_view_name": "HBoxView",
            "_dom_classes": [],
            "_model_name": "HBoxModel",
            "_view_module": "@jupyter-widgets/controls",
            "_model_module_version": "1.5.0",
            "_view_count": null,
            "_view_module_version": "1.5.0",
            "box_style": "",
            "layout": "IPY_MODEL_7a7a46187f5d439eab8a0061a117d2f8",
            "_model_module": "@jupyter-widgets/controls",
            "children": [
              "IPY_MODEL_93668eae5ad043a080e66cc0d0a7e2fb",
              "IPY_MODEL_1d92862ccf2a4b6bb2298ea227fb2fdb"
            ]
          }
        },
        "7a7a46187f5d439eab8a0061a117d2f8": {
          "model_module": "@jupyter-widgets/base",
          "model_name": "LayoutModel",
          "state": {
            "_view_name": "LayoutView",
            "grid_template_rows": null,
            "right": null,
            "justify_content": null,
            "_view_module": "@jupyter-widgets/base",
            "overflow": null,
            "_model_module_version": "1.2.0",
            "_view_count": null,
            "flex_flow": null,
            "width": null,
            "min_width": null,
            "border": null,
            "align_items": null,
            "bottom": null,
            "_model_module": "@jupyter-widgets/base",
            "top": null,
            "grid_column": null,
            "overflow_y": null,
            "overflow_x": null,
            "grid_auto_flow": null,
            "grid_area": null,
            "grid_template_columns": null,
            "flex": null,
            "_model_name": "LayoutModel",
            "justify_items": null,
            "grid_row": null,
            "max_height": null,
            "align_content": null,
            "visibility": null,
            "align_self": null,
            "height": null,
            "min_height": null,
            "padding": null,
            "grid_auto_rows": null,
            "grid_gap": null,
            "max_width": null,
            "order": null,
            "_view_module_version": "1.2.0",
            "grid_template_areas": null,
            "object_position": null,
            "object_fit": null,
            "grid_auto_columns": null,
            "margin": null,
            "display": null,
            "left": null
          }
        },
        "93668eae5ad043a080e66cc0d0a7e2fb": {
          "model_module": "@jupyter-widgets/controls",
          "model_name": "FloatProgressModel",
          "state": {
            "_view_name": "ProgressView",
            "style": "IPY_MODEL_76f65ee30de74e19ad834dc679c3290f",
            "_dom_classes": [],
            "description": "Downloading: 100%",
            "_model_name": "FloatProgressModel",
            "bar_style": "success",
            "max": 2950825948,
            "_view_module": "@jupyter-widgets/controls",
            "_model_module_version": "1.5.0",
            "value": 2950825948,
            "_view_count": null,
            "_view_module_version": "1.5.0",
            "orientation": "horizontal",
            "min": 0,
            "description_tooltip": null,
            "_model_module": "@jupyter-widgets/controls",
            "layout": "IPY_MODEL_f166a47eaf0141e394f1968163909dc1"
          }
        },
        "1d92862ccf2a4b6bb2298ea227fb2fdb": {
          "model_module": "@jupyter-widgets/controls",
          "model_name": "HTMLModel",
          "state": {
            "_view_name": "HTMLView",
            "style": "IPY_MODEL_ad7d8cae9dfe4ac4bc76c6e97a1640e3",
            "_dom_classes": [],
            "description": "",
            "_model_name": "HTMLModel",
            "placeholder": "​",
            "_view_module": "@jupyter-widgets/controls",
            "_model_module_version": "1.5.0",
            "value": " 2.95G/2.95G [01:08&lt;00:00, 43.1MB/s]",
            "_view_count": null,
            "_view_module_version": "1.5.0",
            "description_tooltip": null,
            "_model_module": "@jupyter-widgets/controls",
            "layout": "IPY_MODEL_db70443a1fb34832b079da88310d1212"
          }
        },
        "76f65ee30de74e19ad834dc679c3290f": {
          "model_module": "@jupyter-widgets/controls",
          "model_name": "ProgressStyleModel",
          "state": {
            "_view_name": "StyleView",
            "_model_name": "ProgressStyleModel",
            "description_width": "initial",
            "_view_module": "@jupyter-widgets/base",
            "_model_module_version": "1.5.0",
            "_view_count": null,
            "_view_module_version": "1.2.0",
            "bar_color": null,
            "_model_module": "@jupyter-widgets/controls"
          }
        },
        "f166a47eaf0141e394f1968163909dc1": {
          "model_module": "@jupyter-widgets/base",
          "model_name": "LayoutModel",
          "state": {
            "_view_name": "LayoutView",
            "grid_template_rows": null,
            "right": null,
            "justify_content": null,
            "_view_module": "@jupyter-widgets/base",
            "overflow": null,
            "_model_module_version": "1.2.0",
            "_view_count": null,
            "flex_flow": null,
            "width": null,
            "min_width": null,
            "border": null,
            "align_items": null,
            "bottom": null,
            "_model_module": "@jupyter-widgets/base",
            "top": null,
            "grid_column": null,
            "overflow_y": null,
            "overflow_x": null,
            "grid_auto_flow": null,
            "grid_area": null,
            "grid_template_columns": null,
            "flex": null,
            "_model_name": "LayoutModel",
            "justify_items": null,
            "grid_row": null,
            "max_height": null,
            "align_content": null,
            "visibility": null,
            "align_self": null,
            "height": null,
            "min_height": null,
            "padding": null,
            "grid_auto_rows": null,
            "grid_gap": null,
            "max_width": null,
            "order": null,
            "_view_module_version": "1.2.0",
            "grid_template_areas": null,
            "object_position": null,
            "object_fit": null,
            "grid_auto_columns": null,
            "margin": null,
            "display": null,
            "left": null
          }
        },
        "ad7d8cae9dfe4ac4bc76c6e97a1640e3": {
          "model_module": "@jupyter-widgets/controls",
          "model_name": "DescriptionStyleModel",
          "state": {
            "_view_name": "StyleView",
            "_model_name": "DescriptionStyleModel",
            "description_width": "",
            "_view_module": "@jupyter-widgets/base",
            "_model_module_version": "1.5.0",
            "_view_count": null,
            "_view_module_version": "1.2.0",
            "_model_module": "@jupyter-widgets/controls"
          }
        },
        "db70443a1fb34832b079da88310d1212": {
          "model_module": "@jupyter-widgets/base",
          "model_name": "LayoutModel",
          "state": {
            "_view_name": "LayoutView",
            "grid_template_rows": null,
            "right": null,
            "justify_content": null,
            "_view_module": "@jupyter-widgets/base",
            "overflow": null,
            "_model_module_version": "1.2.0",
            "_view_count": null,
            "flex_flow": null,
            "width": null,
            "min_width": null,
            "border": null,
            "align_items": null,
            "bottom": null,
            "_model_module": "@jupyter-widgets/base",
            "top": null,
            "grid_column": null,
            "overflow_y": null,
            "overflow_x": null,
            "grid_auto_flow": null,
            "grid_area": null,
            "grid_template_columns": null,
            "flex": null,
            "_model_name": "LayoutModel",
            "justify_items": null,
            "grid_row": null,
            "max_height": null,
            "align_content": null,
            "visibility": null,
            "align_self": null,
            "height": null,
            "min_height": null,
            "padding": null,
            "grid_auto_rows": null,
            "grid_gap": null,
            "max_width": null,
            "order": null,
            "_view_module_version": "1.2.0",
            "grid_template_areas": null,
            "object_position": null,
            "object_fit": null,
            "grid_auto_columns": null,
            "margin": null,
            "display": null,
            "left": null
          }
        },
        "5ed8307c39fc4799ae22510bab42ef19": {
          "model_module": "@jupyter-widgets/controls",
          "model_name": "HBoxModel",
          "state": {
            "_view_name": "HBoxView",
            "_dom_classes": [],
            "_model_name": "HBoxModel",
            "_view_module": "@jupyter-widgets/controls",
            "_model_module_version": "1.5.0",
            "_view_count": null,
            "_view_module_version": "1.5.0",
            "box_style": "",
            "layout": "IPY_MODEL_7a6edc00d85a440d81cb482fbe4a8e85",
            "_model_module": "@jupyter-widgets/controls",
            "children": [
              "IPY_MODEL_2fd2673774874aa7ad5140ce6af55b7a",
              "IPY_MODEL_1a4e821e80ec400da1f05a5f329cb3a9"
            ]
          }
        },
        "7a6edc00d85a440d81cb482fbe4a8e85": {
          "model_module": "@jupyter-widgets/base",
          "model_name": "LayoutModel",
          "state": {
            "_view_name": "LayoutView",
            "grid_template_rows": null,
            "right": null,
            "justify_content": null,
            "_view_module": "@jupyter-widgets/base",
            "overflow": null,
            "_model_module_version": "1.2.0",
            "_view_count": null,
            "flex_flow": null,
            "width": null,
            "min_width": null,
            "border": null,
            "align_items": null,
            "bottom": null,
            "_model_module": "@jupyter-widgets/base",
            "top": null,
            "grid_column": null,
            "overflow_y": null,
            "overflow_x": null,
            "grid_auto_flow": null,
            "grid_area": null,
            "grid_template_columns": null,
            "flex": null,
            "_model_name": "LayoutModel",
            "justify_items": null,
            "grid_row": null,
            "max_height": null,
            "align_content": null,
            "visibility": null,
            "align_self": null,
            "height": null,
            "min_height": null,
            "padding": null,
            "grid_auto_rows": null,
            "grid_gap": null,
            "max_width": null,
            "order": null,
            "_view_module_version": "1.2.0",
            "grid_template_areas": null,
            "object_position": null,
            "object_fit": null,
            "grid_auto_columns": null,
            "margin": null,
            "display": null,
            "left": null
          }
        },
        "2fd2673774874aa7ad5140ce6af55b7a": {
          "model_module": "@jupyter-widgets/controls",
          "model_name": "FloatProgressModel",
          "state": {
            "_view_name": "ProgressView",
            "style": "IPY_MODEL_578a31d3d0df4b62bf10dc06ea7c7f3d",
            "_dom_classes": [],
            "description": "Downloading: 100%",
            "_model_name": "FloatProgressModel",
            "bar_style": "success",
            "max": 791656,
            "_view_module": "@jupyter-widgets/controls",
            "_model_module_version": "1.5.0",
            "value": 791656,
            "_view_count": null,
            "_view_module_version": "1.5.0",
            "orientation": "horizontal",
            "min": 0,
            "description_tooltip": null,
            "_model_module": "@jupyter-widgets/controls",
            "layout": "IPY_MODEL_0332d6cfdaa147d89b135a369d0a6f79"
          }
        },
        "1a4e821e80ec400da1f05a5f329cb3a9": {
          "model_module": "@jupyter-widgets/controls",
          "model_name": "HTMLModel",
          "state": {
            "_view_name": "HTMLView",
            "style": "IPY_MODEL_7bb291608f8248b2bb1d656efb2e3fd2",
            "_dom_classes": [],
            "description": "",
            "_model_name": "HTMLModel",
            "placeholder": "​",
            "_view_module": "@jupyter-widgets/controls",
            "_model_module_version": "1.5.0",
            "value": " 792k/792k [00:00&lt;00:00, 1.54MB/s]",
            "_view_count": null,
            "_view_module_version": "1.5.0",
            "description_tooltip": null,
            "_model_module": "@jupyter-widgets/controls",
            "layout": "IPY_MODEL_1f3ad0da8ea341038ea1393efda9b55f"
          }
        },
        "578a31d3d0df4b62bf10dc06ea7c7f3d": {
          "model_module": "@jupyter-widgets/controls",
          "model_name": "ProgressStyleModel",
          "state": {
            "_view_name": "StyleView",
            "_model_name": "ProgressStyleModel",
            "description_width": "initial",
            "_view_module": "@jupyter-widgets/base",
            "_model_module_version": "1.5.0",
            "_view_count": null,
            "_view_module_version": "1.2.0",
            "bar_color": null,
            "_model_module": "@jupyter-widgets/controls"
          }
        },
        "0332d6cfdaa147d89b135a369d0a6f79": {
          "model_module": "@jupyter-widgets/base",
          "model_name": "LayoutModel",
          "state": {
            "_view_name": "LayoutView",
            "grid_template_rows": null,
            "right": null,
            "justify_content": null,
            "_view_module": "@jupyter-widgets/base",
            "overflow": null,
            "_model_module_version": "1.2.0",
            "_view_count": null,
            "flex_flow": null,
            "width": null,
            "min_width": null,
            "border": null,
            "align_items": null,
            "bottom": null,
            "_model_module": "@jupyter-widgets/base",
            "top": null,
            "grid_column": null,
            "overflow_y": null,
            "overflow_x": null,
            "grid_auto_flow": null,
            "grid_area": null,
            "grid_template_columns": null,
            "flex": null,
            "_model_name": "LayoutModel",
            "justify_items": null,
            "grid_row": null,
            "max_height": null,
            "align_content": null,
            "visibility": null,
            "align_self": null,
            "height": null,
            "min_height": null,
            "padding": null,
            "grid_auto_rows": null,
            "grid_gap": null,
            "max_width": null,
            "order": null,
            "_view_module_version": "1.2.0",
            "grid_template_areas": null,
            "object_position": null,
            "object_fit": null,
            "grid_auto_columns": null,
            "margin": null,
            "display": null,
            "left": null
          }
        },
        "7bb291608f8248b2bb1d656efb2e3fd2": {
          "model_module": "@jupyter-widgets/controls",
          "model_name": "DescriptionStyleModel",
          "state": {
            "_view_name": "StyleView",
            "_model_name": "DescriptionStyleModel",
            "description_width": "",
            "_view_module": "@jupyter-widgets/base",
            "_model_module_version": "1.5.0",
            "_view_count": null,
            "_view_module_version": "1.2.0",
            "_model_module": "@jupyter-widgets/controls"
          }
        },
        "1f3ad0da8ea341038ea1393efda9b55f": {
          "model_module": "@jupyter-widgets/base",
          "model_name": "LayoutModel",
          "state": {
            "_view_name": "LayoutView",
            "grid_template_rows": null,
            "right": null,
            "justify_content": null,
            "_view_module": "@jupyter-widgets/base",
            "overflow": null,
            "_model_module_version": "1.2.0",
            "_view_count": null,
            "flex_flow": null,
            "width": null,
            "min_width": null,
            "border": null,
            "align_items": null,
            "bottom": null,
            "_model_module": "@jupyter-widgets/base",
            "top": null,
            "grid_column": null,
            "overflow_y": null,
            "overflow_x": null,
            "grid_auto_flow": null,
            "grid_area": null,
            "grid_template_columns": null,
            "flex": null,
            "_model_name": "LayoutModel",
            "justify_items": null,
            "grid_row": null,
            "max_height": null,
            "align_content": null,
            "visibility": null,
            "align_self": null,
            "height": null,
            "min_height": null,
            "padding": null,
            "grid_auto_rows": null,
            "grid_gap": null,
            "max_width": null,
            "order": null,
            "_view_module_version": "1.2.0",
            "grid_template_areas": null,
            "object_position": null,
            "object_fit": null,
            "grid_auto_columns": null,
            "margin": null,
            "display": null,
            "left": null
          }
        }
      }
    }
  },
  "cells": [
    {
      "cell_type": "markdown",
      "metadata": {
        "id": "view-in-github",
        "colab_type": "text"
      },
      "source": [
        "<a href=\"https://colab.research.google.com/github/VinishUchiha/NewsSummarizationUsingTransformers/blob/master/News_Article_Summarization_Using_Transformers(T5).ipynb\" target=\"_parent\"><img src=\"https://colab.research.google.com/assets/colab-badge.svg\" alt=\"Open In Colab\"/></a>"
      ]
    },
    {
      "cell_type": "code",
      "metadata": {
        "id": "nbruVK_evJJS",
        "colab_type": "code",
        "colab": {
          "base_uri": "https://localhost:8080/",
          "height": 732
        },
        "outputId": "35dc1e03-ac3e-4f89-ca6e-0b78af41ab7c"
      },
      "source": [
        "!git clone https://github.com/huggingface/transformers\n",
        "!pip install ./transformers"
      ],
      "execution_count": 1,
      "outputs": [
        {
          "output_type": "stream",
          "text": [
            "Cloning into 'transformers'...\n",
            "remote: Enumerating objects: 274, done.\u001b[K\n",
            "remote: Counting objects:   0% (1/274)\u001b[K\rremote: Counting objects:   1% (3/274)\u001b[K\rremote: Counting objects:   2% (6/274)\u001b[K\rremote: Counting objects:   3% (9/274)\u001b[K\rremote: Counting objects:   4% (11/274)\u001b[K\rremote: Counting objects:   5% (14/274)\u001b[K\rremote: Counting objects:   6% (17/274)\u001b[K\rremote: Counting objects:   7% (20/274)\u001b[K\rremote: Counting objects:   8% (22/274)\u001b[K\rremote: Counting objects:   9% (25/274)\u001b[K\rremote: Counting objects:  10% (28/274)\u001b[K\rremote: Counting objects:  11% (31/274)\u001b[K\rremote: Counting objects:  12% (33/274)\u001b[K\rremote: Counting objects:  13% (36/274)\u001b[K\rremote: Counting objects:  14% (39/274)\u001b[K\rremote: Counting objects:  15% (42/274)\u001b[K\rremote: Counting objects:  16% (44/274)\u001b[K\rremote: Counting objects:  17% (47/274)\u001b[K\rremote: Counting objects:  18% (50/274)\u001b[K\rremote: Counting objects:  19% (53/274)\u001b[K\rremote: Counting objects:  20% (55/274)\u001b[K\rremote: Counting objects:  21% (58/274)\u001b[K\rremote: Counting objects:  22% (61/274)\u001b[K\rremote: Counting objects:  23% (64/274)\u001b[K\rremote: Counting objects:  24% (66/274)\u001b[K\rremote: Counting objects:  25% (69/274)\u001b[K\rremote: Counting objects:  26% (72/274)\u001b[K\rremote: Counting objects:  27% (74/274)\u001b[K\rremote: Counting objects:  28% (77/274)\u001b[K\rremote: Counting objects:  29% (80/274)\u001b[K\rremote: Counting objects:  30% (83/274)\u001b[K\rremote: Counting objects:  31% (85/274)\u001b[K\rremote: Counting objects:  32% (88/274)\u001b[K\rremote: Counting objects:  33% (91/274)\u001b[K\rremote: Counting objects:  34% (94/274)\u001b[K\rremote: Counting objects:  35% (96/274)\u001b[K\rremote: Counting objects:  36% (99/274)\u001b[K\rremote: Counting objects:  37% (102/274)\rremote: Counting objects:  38% (105/274)\u001b[K\rremote: Counting objects:  39% (107/274)\u001b[K\rremote: Counting objects:  40% (110/274)\u001b[K\rremote: Counting objects:  41% (113/274)\u001b[K\rremote: Counting objects:  42% (116/274)\u001b[K\rremote: Counting objects:  43% (118/274)\u001b[K\rremote: Counting objects:  44% (121/274)\u001b[K\rremote: Counting objects:  45% (124/274)\u001b[K\rremote: Counting objects:  46% (127/274)\u001b[K\rremote: Counting objects:  47% (129/274)\u001b[K\rremote: Counting objects:  48% (132/274)\u001b[K\rremote: Counting objects:  49% (135/274)\u001b[K\rremote: Counting objects:  50% (137/274)\u001b[K\rremote: Counting objects:  51% (140/274)\u001b[K\rremote: Counting objects:  52% (143/274)\u001b[K\rremote: Counting objects:  53% (146/274)\u001b[K\rremote: Counting objects:  54% (148/274)\u001b[K\rremote: Counting objects:  55% (151/274)\u001b[K\rremote: Counting objects:  56% (154/274)\u001b[K\rremote: Counting objects:  57% (157/274)\u001b[K\rremote: Counting objects:  58% (159/274)\u001b[K\rremote: Counting objects:  59% (162/274)\u001b[K\rremote: Counting objects:  60% (165/274)\u001b[K\rremote: Counting objects:  61% (168/274)\u001b[K\rremote: Counting objects:  62% (170/274)\u001b[K\rremote: Counting objects:  63% (173/274)\u001b[K\rremote: Counting objects:  64% (176/274)\u001b[K\rremote: Counting objects:  65% (179/274)\u001b[K\rremote: Counting objects:  66% (181/274)\u001b[K\rremote: Counting objects:  67% (184/274)\u001b[K\rremote: Counting objects:  68% (187/274)\u001b[K\rremote: Counting objects:  69% (190/274)\u001b[K\rremote: Counting objects:  70% (192/274)\u001b[K\rremote: Counting objects:  71% (195/274)\u001b[K\rremote: Counting objects:  72% (198/274)\u001b[K\rremote: Counting objects:  73% (201/274)\u001b[K\rremote: Counting objects:  74% (203/274)\u001b[K\rremote: Counting objects:  75% (206/274)\u001b[K\rremote: Counting objects:  76% (209/274)\u001b[K\rremote: Counting objects:  77% (211/274)\u001b[K\rremote: Counting objects:  78% (214/274)\u001b[K\rremote: Counting objects:  79% (217/274)\u001b[K\rremote: Counting objects:  80% (220/274)\u001b[K\rremote: Counting objects:  81% (222/274)\u001b[K\rremote: Counting objects:  82% (225/274)\u001b[K\rremote: Counting objects:  83% (228/274)\u001b[K\rremote: Counting objects:  84% (231/274)\u001b[K\rremote: Counting objects:  85% (233/274)\u001b[K\rremote: Counting objects:  86% (236/274)\u001b[K\rremote: Counting objects:  87% (239/274)\u001b[K\rremote: Counting objects:  88% (242/274)\u001b[K\rremote: Counting objects:  89% (244/274)\u001b[K\rremote: Counting objects:  90% (247/274)\u001b[K\rremote: Counting objects:  91% (250/274)\u001b[K\rremote: Counting objects:  92% (253/274)\u001b[K\rremote: Counting objects:  93% (255/274)\u001b[K\rremote: Counting objects:  94% (258/274)\u001b[K\rremote: Counting objects:  95% (261/274)\u001b[K\rremote: Counting objects:  96% (264/274)\u001b[K\rremote: Counting objects:  97% (266/274)\u001b[K\rremote: Counting objects:  98% (269/274)\u001b[K\rremote: Counting objects:  99% (272/274)\u001b[K\rremote: Counting objects: 100% (274/274)\u001b[K\rremote: Counting objects: 100% (274/274), done.\u001b[K\n",
            "remote: Compressing objects: 100% (120/120), done.\u001b[K\n",
            "remote: Total 25889 (delta 132), reused 218 (delta 104), pack-reused 25615\u001b[K\n",
            "Receiving objects: 100% (25889/25889), 16.83 MiB | 16.18 MiB/s, done.\n",
            "Resolving deltas: 100% (18089/18089), done.\n",
            "Processing ./transformers\n",
            "Requirement already satisfied: numpy in /usr/local/lib/python3.6/dist-packages (from transformers==2.9.0) (1.18.4)\n",
            "Collecting tokenizers==0.7.0\n",
            "\u001b[?25l  Downloading https://files.pythonhosted.org/packages/14/e5/a26eb4716523808bb0a799fcfdceb6ebf77a18169d9591b2f46a9adb87d9/tokenizers-0.7.0-cp36-cp36m-manylinux1_x86_64.whl (3.8MB)\n",
            "\u001b[K     |████████████████████████████████| 3.8MB 6.1MB/s \n",
            "\u001b[?25hRequirement already satisfied: filelock in /usr/local/lib/python3.6/dist-packages (from transformers==2.9.0) (3.0.12)\n",
            "Requirement already satisfied: requests in /usr/local/lib/python3.6/dist-packages (from transformers==2.9.0) (2.23.0)\n",
            "Requirement already satisfied: tqdm>=4.27 in /usr/local/lib/python3.6/dist-packages (from transformers==2.9.0) (4.41.1)\n",
            "Requirement already satisfied: regex!=2019.12.17 in /usr/local/lib/python3.6/dist-packages (from transformers==2.9.0) (2019.12.20)\n",
            "Collecting sentencepiece\n",
            "\u001b[?25l  Downloading https://files.pythonhosted.org/packages/98/2c/8df20f3ac6c22ac224fff307ebc102818206c53fc454ecd37d8ac2060df5/sentencepiece-0.1.86-cp36-cp36m-manylinux1_x86_64.whl (1.0MB)\n",
            "\u001b[K     |████████████████████████████████| 1.0MB 37.4MB/s \n",
            "\u001b[?25hCollecting sacremoses\n",
            "\u001b[?25l  Downloading https://files.pythonhosted.org/packages/7d/34/09d19aff26edcc8eb2a01bed8e98f13a1537005d31e95233fd48216eed10/sacremoses-0.0.43.tar.gz (883kB)\n",
            "\u001b[K     |████████████████████████████████| 890kB 51.2MB/s \n",
            "\u001b[?25hRequirement already satisfied: dataclasses in /usr/local/lib/python3.6/dist-packages (from transformers==2.9.0) (0.7)\n",
            "Requirement already satisfied: urllib3!=1.25.0,!=1.25.1,<1.26,>=1.21.1 in /usr/local/lib/python3.6/dist-packages (from requests->transformers==2.9.0) (1.24.3)\n",
            "Requirement already satisfied: certifi>=2017.4.17 in /usr/local/lib/python3.6/dist-packages (from requests->transformers==2.9.0) (2020.4.5.1)\n",
            "Requirement already satisfied: chardet<4,>=3.0.2 in /usr/local/lib/python3.6/dist-packages (from requests->transformers==2.9.0) (3.0.4)\n",
            "Requirement already satisfied: idna<3,>=2.5 in /usr/local/lib/python3.6/dist-packages (from requests->transformers==2.9.0) (2.9)\n",
            "Requirement already satisfied: six in /usr/local/lib/python3.6/dist-packages (from sacremoses->transformers==2.9.0) (1.12.0)\n",
            "Requirement already satisfied: click in /usr/local/lib/python3.6/dist-packages (from sacremoses->transformers==2.9.0) (7.1.2)\n",
            "Requirement already satisfied: joblib in /usr/local/lib/python3.6/dist-packages (from sacremoses->transformers==2.9.0) (0.14.1)\n",
            "Building wheels for collected packages: transformers, sacremoses\n",
            "  Building wheel for transformers (setup.py) ... \u001b[?25l\u001b[?25hdone\n",
            "  Created wheel for transformers: filename=transformers-2.9.0-cp36-none-any.whl size=629384 sha256=2e6e57ab9da07cfbb69fb7f9f36835534ee0623385567f7912b0a2a0bbc27df3\n",
            "  Stored in directory: /tmp/pip-ephem-wheel-cache-2xcd6e64/wheels/23/19/dd/2561a4e47240cf6b307729d58e56f8077dd0c698f5992216cf\n",
            "  Building wheel for sacremoses (setup.py) ... \u001b[?25l\u001b[?25hdone\n",
            "  Created wheel for sacremoses: filename=sacremoses-0.0.43-cp36-none-any.whl size=893260 sha256=9d130c67a7c415c72ef513564d8e0c81278338a8e06ff220c7de2aaff2657927\n",
            "  Stored in directory: /root/.cache/pip/wheels/29/3c/fd/7ce5c3f0666dab31a50123635e6fb5e19ceb42ce38d4e58f45\n",
            "Successfully built transformers sacremoses\n",
            "Installing collected packages: tokenizers, sentencepiece, sacremoses, transformers\n",
            "Successfully installed sacremoses-0.0.43 sentencepiece-0.1.86 tokenizers-0.7.0 transformers-2.9.0\n"
          ],
          "name": "stdout"
        }
      ]
    },
    {
      "cell_type": "code",
      "metadata": {
        "id": "k9cIVDqr2cpP",
        "colab_type": "code",
        "colab": {}
      },
      "source": [
        "import requests\n",
        "from bs4 import BeautifulSoup\n",
        "import pprint\n",
        "import torch\n",
        "from transformers import T5ForConditionalGeneration, T5Tokenizer"
      ],
      "execution_count": 0,
      "outputs": []
    },
    {
      "cell_type": "code",
      "metadata": {
        "id": "MBGu064W2bOv",
        "colab_type": "code",
        "colab": {}
      },
      "source": [
        "url = \"https://www.rediff.com/news\"\n",
        "r = requests.get(url)\n",
        "page = r.content"
      ],
      "execution_count": 0,
      "outputs": []
    },
    {
      "cell_type": "code",
      "metadata": {
        "id": "XmUrHHEY4Zkf",
        "colab_type": "code",
        "colab": {}
      },
      "source": [
        "soup = BeautifulSoup(page, 'html5lib')"
      ],
      "execution_count": 0,
      "outputs": []
    },
    {
      "cell_type": "code",
      "metadata": {
        "id": "NE3uMk1H4Zf-",
        "colab_type": "code",
        "colab": {}
      },
      "source": [
        "coverpage_news = soup.find_all('div', class_='newleftcontainer')"
      ],
      "execution_count": 0,
      "outputs": []
    },
    {
      "cell_type": "code",
      "metadata": {
        "id": "p5u-aH6S5Sjo",
        "colab_type": "code",
        "colab": {}
      },
      "source": [
        "news = coverpage_news[0].select('h2 a')"
      ],
      "execution_count": 0,
      "outputs": []
    },
    {
      "cell_type": "code",
      "metadata": {
        "id": "w2VJ0wXJ9u3r",
        "colab_type": "code",
        "colab": {}
      },
      "source": [
        "texts = []\n",
        "links = []\n",
        "for tag in news:\n",
        "  texts.append(tag.text)\n",
        "  links.append(tag.attrs['href'])"
      ],
      "execution_count": 0,
      "outputs": []
    },
    {
      "cell_type": "code",
      "metadata": {
        "id": "OxLk5oD8Ep3b",
        "colab_type": "code",
        "colab": {}
      },
      "source": [
        "#remove the first link because its a just a news updates\n",
        "texts = texts[1:]\n",
        "links = links[1:]"
      ],
      "execution_count": 0,
      "outputs": []
    },
    {
      "cell_type": "code",
      "metadata": {
        "id": "eVAMrgUY5Ser",
        "colab_type": "code",
        "colab": {}
      },
      "source": [
        "#first 5 article \n",
        "num_of_article = 5\n",
        "\n",
        "news_contents = []\n",
        "for i in range(0,num_of_article):\n",
        "      # Reading the content (it is divided in paragraphs)\n",
        "    article = requests.get(links[i])\n",
        "    article_content = article.content\n",
        "    soup_article = BeautifulSoup(article_content, 'html5lib')\n",
        "    body = soup_article.find_all('div', class_='arti_contentbig')\n",
        "    x = body[0].find_all('p')    \n",
        "    # Unifying the paragraphs\n",
        "    list_paragraphs = []\n",
        "    for p in range(0, len(x)):\n",
        "        paragraph = x[p].get_text()\n",
        "        list_paragraphs.append(paragraph)\n",
        "        final_article = \" \".join(list_paragraphs)\n",
        "        \n",
        "    news_contents.append(final_article)"
      ],
      "execution_count": 0,
      "outputs": []
    },
    {
      "cell_type": "code",
      "metadata": {
        "id": "t-xcRHstFrgl",
        "colab_type": "code",
        "colab": {
          "base_uri": "https://localhost:8080/",
          "height": 124
        },
        "outputId": "5e845d3e-02bf-4362-ff96-be6af0853057"
      },
      "source": [
        "news_contents"
      ],
      "execution_count": 13,
      "outputs": [
        {
          "output_type": "execute_result",
          "data": {
            "text/plain": [
              "['A Mig-29 multi-role fighter aircraft of the Indian Air Force crashed in Chuharpur village near Jalandhar in Punjab on Friday after it developed a technical snag, officials said. \\xa0  The pilot of the jet ejected safely, they said. \"One Mig-29 aircraft airborne on a training mission from an Air Force base near Jalandhar met with an accident. The aircraft had developed a technical snag and the pilot ejected safely as he was unable to control the aircraft,\" the IAF said in a statement. An IAF fighter jet crashed into the fields here, Nawanshahr Deputy Commissioner Vinay Bublani said. Officials said the crash took place around 10.30 am. The IAF said the pilot has been rescued by a helicopter and that a court of inquiry has been ordered to investigate the cause of the accident. At present, the IAF has three squadrons of the Soviet-era MiG-29 fighter jets and two of them are stationed at the Adampur Air Force station. One squadron comprises 16-18 aircraft. The fleet was upgraded around two years back following which they gained in strength and ferocity. In the 1999 Kargil War, the Mig-29 fleet played an important role in destroying enemy fortifications. The IAF has lost a number of MiG 29s in crashes in the last few years. In February, a MiG-29K fighter jet of the Indian Navy crashed near Goa. Friday\\'s crash comes, around three weeks after a brand new AH-64E Apache attack helicopter of the IAF made an emergency landing in Hoshiarpur district in Punjab.',\n",
              " '\"We have to learn to live with the virus,\" the government said on Friday, urging people to make COVID-19 prevention guidelines a part of their lives as a behavioural change amid easing of lockdown restrictions and migrant labourers returning home.  Addressing a press conference, joint secretary in the health ministry Lav Agarwal said there has been a reduction in the doubling time of COVID-19 cases in the country from 12 days till two days ago to 10 now because of the spike in cases at some places, even as he asserted that the peak of the disease can be avoided if the prescribed dos and don\\'ts are followed. \"As we talk of relaxations to the lockdown and of migrant workers returning back to their respective homes, there is a big challenge in front of us that we also have to learn to live with the virus,\" he said. \"And when we are talking about learning to live with the virus then it is very important that the guidelines that are there on saving oneself from the virus are adopted in the community as a behavioural change,\" Agarwal said. It is a big challenge and the government needs community support for it, he said. Delhi chief minister Arvind Kejriwal had also recently said people will have to be ready to live with the novel coronavirus and that time has come to re-open the city, as the government announced certain relaxations. Giving district-wise situation of coronavirus cases, Agarwal said there are 216 districts in which no COVID-19 case has been reported till date. The health ministry on May 1 classified 733 districts in the country as 130 in the red zone, 284 in the orange zone and 319 in the green zone, taking into consideration incidence of cases of COVID-19, doubling rate, extent of testing and surveillance feedback. Forty-two districts have had no fresh cases in the last 28 days while 29 districts have reported no new cases of COVID-19 in the last 21 days. Also, 36 districts have not registered any fresh cases in the last 14 days and 46 districts have had no fresh cases in the last seven days, he said. Asked about AIIMS Delhi Director, Dr Randeep Guleria\\'s remarks citing modelling data that the peak of the disease in India may be reached in June or July, Agarwal said, “If we follow the prescribed dos and don\\'ts, we may not reach the peak in number of COVID-19 cases and our curve may remain flat.” If the precautions are not taken and guidelines are not followed properly, there can be chances of spike in cases, he warned, stressing that community support and field action should continue so that the country does not reach the peak. Responding to a question on how many cases India may witness if the peak comes in June- July, the official said different organisations have projected a figure of some thousands to some crores based on their analysis. \"They are widely varying that determining field level action based on that will be slightly difficult. We do an analysis based on the current growth rate of cases and doubling rate, according to analysis, our doubling rate is now 10 days and simultaneously, we do an analysis of districts and cities where cases are rising. \"On the basis of that we see where more action and additional efforts are required to increase the doubling time of cases,\" Agarwal said. Stating that some states like Maharashtra, Gujarat, Delhi, Rajasthan and Madhya Pradesh have witnessed a rise in cases during the last few days, Agarwal stressed the need to strengthen containment efforts to stop the rise, along with proper adherence to measures such as physical distancing at field level. \"As migrant workers return to their respective home states, it is essential that during movement all precautions regarding infection prevention and management are taken and the rules at the quarantine and isolation facilities are followed,\" Agarwal said. \"We request workers to understand that this is for their own benefit, their people, village and city. They should follow physical distancing, hand, respiratory and environmental hygiene and support the local administration,\" he said. Providing details on recovered patients, Agarwal said India\\'s recovery rate stands at 29.36 per cent with 16,540 COVID-19 patients having cured till now, including 1,273 who recovered in the last 24 hours. He said 3.2 per cent of total active COVID-19 cases are on oxygen support, 4.2 per cent in ICU and 1.1 per cent on ventilator: A total of 3,390 COVID-19 cases and 103 deaths have been reported in the last 24 hours till Friday 8 am, taking the total number of cases to 56,342 and death toll to 1,886, according to the ministry. Agarwal also said that the ICMR will conduct randomised controlled clinical trials to assess the safety and efficacy of convalescent plasma therapy in COVID-19 patients in 21 hospitals. The hospitals where the trials will be conducted comprise five from Maharashtra, four from Gujarat, two each from Rajasthan, Tamil Nadu, Madhya Pradesh, UP and one each from Karnataka, Chandigarh, Punjab, Telangana. During the briefing, Agarwal also said the railways has converted 5,231 coaches into COVID Care Centres which will be placed at 215 identified railway stations and will be used for treatment of very mild and mild COVID19 patients.',\n",
              " 'Pending Class 10 and 12 CBSE exams, which were postponed due to the COVID-19-induced lockdown, will be conducted from July 1 to 15, Union human resource development minister Ramesh Pokhriyal \\'Nishank\\' announced on Friday.  The schedule has been decided in order to ensure that the board exams are completed before competitive examinations such as engineering entrance JEE-Mains, which is scheduled from July 18-23, and medical entrance exam NEET, which is scheduled on July 26. The Central Board of Secondary Education has not yet notified the exam schedule. The board is also yet to announce the modalities for assessment of the exams which will not be conducted as well as guidelines for examination centres to ensure social distancing. \"The students have been impatiently waiting for the schedule for pending exams. It has been decided today that the exams will be conducted from July 1 to 15,\" Nishank said. While class 12 exams will be conducted across the country, the class 10 exams are only pending in North East Delhi where they were affected due to the law and order situation. The board had last month announced that it will only conduct pending exams in 29 subjects which are crucial for promotion and admission to higher educational institutions. Universities and schools across the country have been closed and exams postponed since March 16 when the Centre announced a countrywide classroom shutdown as one of the measures to contain the COVID-19 outbreak. Later, a nationwide lockdown was announced on March 24, which has now been extended till May 17. \"The board was not able to conduct exams for class 10 and 12 on eight examination days due to the COVID-19 outbreak. Further, due to the law and order situation in North East Delhi, the board was not able to conduct exams on four examination days, while a very small number of students from and around this district were not able to appear in exams on six days,\" a senior CBSE official said. \"A detailed schedule is expected to be announced by next week,\" the official said, adding the board is also working on resuming the evaluation of answer scripts, which was stopped in March due to the nationwide lockdown. The HRD minister had last month also directed that evaluation be started for the already conducted board exams and appealed states to facilitate the same. One of the options being considered is to deliver the answer scripts to the examiners at home, however, no final decision has been announced yet. The results for the 29 Class 12 exams will most likely be announced by August-end, before the Indian Institutes of Technology declare the merit list for JEE Advanced. The IIT Counselling process hinges on when CBSE and respective state boards announce results for the class 12 board exams. To seek admission to one of the IITs, aspirants who have cleared JEE Advanced should have also secured at least 75 per cent marks in their board exams. JEE-Advanced has been scheduled on August 23.',\n",
              " \"Amid the growing number of coronavirus cases in Mumbai, the Maharashtra government on Friday transferred Brihanmumbai Municipal corporation commissioner Pravin Pardeshi.  He was replaced as Mumbai commissioner by I SChahal, currently additional chief secretary (urban development). Pardeshi has now been posted in the urban development department in Chahal's place, said the order issued by the general administration department. Ashwini Bhide, former managing director of the Mumbai Metro Rail Corporation, and Sanjeev Jaiswal, two bureaucrats who were awaiting posting, were appointed as additional commissioners in the BMC. Jaiswal's last posting was as Thane municipal commissioner. He replaced additional municipal commissioner A L Jarhad who will take over as secretary, relief and rehabilitation. Kishoreraje Nimbalkar, current secretary, relief and rehabilitation, was appointed as secretary, public works department. Ashwini Bhide has been brought in place of Jayashri Bhoj who has been shifted to the small scale industries development corporation. Manoj Saunik, additional chief secretary, PWD has been posted as additional chief secretary-finance.\",\n",
              " 'The Supreme Court on Friday extended by three months the time for completion of trial in the 1992 Babri Masjid demolition case involving Bharatiya Janata Party veterans L K Advani, M M Joshi and Uma Bharti and said that judgement should be delivered by August 31.  The top court asked special judge S K Yadav to control the proceedings in accordance with law so that inordinate delay that is beyond the time-frame is no longer breached. It indicated to the special judge to avail the facilities of video conferencing to complete recording of evidences and hearing of applications that are filed during the course of trial proceedings. A bench of Justices R F Nariman and Surya Kant, hearing the matter through video conferencing, passed the orders on receiving a letter from the special judge seeking extension of time granted to him for completing the trial in the politically sensitive case. “Having taken the letter dated May 6, 2020, into consideration, we extend the period to complete evidence and deliver judgment till August 31, 2020. We are cognizant of the fact that Shri Yadav is making all efforts in order that the trial reaches a just conclusion. However, given the original time frame and the extended time frame, the effort must now be to complete the proceedings and deliver judgment latest by August 31, 2020,” the bench said in its order. On July 19 last year the top court had asked the special judge to deliver the verdict within nine months, which was to end this April. The bench on Friday said that despite nine months having expired from the aforesaid date (July 19), “we still find, on a perusal of the letter dated May 6, 2020, written by Shri Yadav, Special Judge that even the evidence is not yet completed”. It said, “We may indicate that video conferencing facilities are available and should be used by Shri Yadav in order to complete all evidence as well as applications that may be filed in that behalf. It is up to Shri Yadav to control the proceedings in accordance with law so that inordinate delay that is beyond the time frame that we now give is no longer breached”. The top court had on July 19 last year also extended the tenure of the special judge at Lucknow till the completion of the trial and the delivery of verdict in the case. Besides Advani, Joshi and Uma Bharti, the accused against whom conspiracy charge was invoked in the case by the Supreme Court on April 19, 2017, include former Rajasthan governor Kalyan Singh, BJP MP Vinay Katiar and Sadhvi Ritambara. Three other high-profile accused Giriraj Kishore, and Vishwa Hindu Parishad leader Ashok Singhal and Vishnu Hari Dalmia died during trial and the proceedings against them have been abated. Kalyan Singh, during whose tenure as chief minister of Uttar Pradesh the disputed structure was razed, was put on trial in September last year after his tenure as Governor came to an end. The top said last July that recording of evidence in the politically sensitive case should be completed within six months and the judgement in the case should be ready and delivered maximum within a period of nine months. Exercising its plenary powers under Article 142 of the Constitution, the top court had directed the Uttar Pradesh government to pass appropriate orders in consultation with the Allahabad High Court within four weeks to extend the tenure of the special judge, who was set to retire on September 30 last year. The special judge had written a letter on May 25, last year to the apex court, seeking extension of two-year deadline for completion of the case and informed the court that he was set to superannuate on September 30, 2019. On April 19, 2017, the top court had ordered day-to-day trial in the high profile case and directed the special judge to conclude it in two years\\' time. While dubbing demolition of the disputed structure as a \"crime\" which shook the \"secular fabric of the Constitution\", it had allowed the CBI\\'s plea on restoration of criminal conspiracy charge against the VVIP accused. The court had come down heavily on the CBI for the delay of over 25 years in the trial. Issuing a slew of directions, it had said, \"The proceedings (against Advani and others) in the court of the Special Judicial Magistrate at Raebareli will stand transferred to the Court of Additional Sessions Judge (Ayodhya Matters) at Lucknow.\" \"The court of sessions will frame additional charges under Section 120-B (conspiracy) and the other provisions of the penal code mentioned in the joint charge sheet filed by the CBI against Champat Rai Bansal, Satish Pradhan, Dharam Das, Mahant Nritya Gopal Das, Mahamadleshwar Jagdish Muni, Ram Bilas Vadanti, Vaikunth Lal Sharma and Satish Chandra Nagar,\" the apex court had said. The court had termed the Allahabad high court\\'s February 12, 2001 verdict dropping conspiracy charge against Advani and others as \"erroneous\". Before the 2017 verdict of the apex court, there were two sets of cases relating to the demolition of the disputed structure on December 6, 1992 going on at Lucknow and Raebareli. The trial of first case involving unnamed \\'Karsevaks\\' was going on in a Lucknow court, while the second set of cases relating to the eight VVIPs were going on in a Raebareli court.']"
            ]
          },
          "metadata": {
            "tags": []
          },
          "execution_count": 13
        }
      ]
    },
    {
      "cell_type": "code",
      "metadata": {
        "id": "Q9jGfUMBvYVO",
        "colab_type": "code",
        "colab": {
          "base_uri": "https://localhost:8080/",
          "height": 165,
          "referenced_widgets": [
            "639b4e494663425db9a2acc08fe059b6",
            "213fde7070564c3fad5013bf1c579585",
            "84d7576a64054e68864a17fea96386ea",
            "797542d7249a4088a6ffe5b783146e0b",
            "9f37ca9406e84122a7158557ac6af039",
            "e2cc14babf7547598c3aedbb20c533e4",
            "518d679a93e04674afb97824500df5c0",
            "d9f653a48a354d61afcc02f741f315ea",
            "7df3a1706dcd4e8e8d14a7ef53b8f6d2",
            "7a7a46187f5d439eab8a0061a117d2f8",
            "93668eae5ad043a080e66cc0d0a7e2fb",
            "1d92862ccf2a4b6bb2298ea227fb2fdb",
            "76f65ee30de74e19ad834dc679c3290f",
            "f166a47eaf0141e394f1968163909dc1",
            "ad7d8cae9dfe4ac4bc76c6e97a1640e3",
            "db70443a1fb34832b079da88310d1212",
            "5ed8307c39fc4799ae22510bab42ef19",
            "7a6edc00d85a440d81cb482fbe4a8e85",
            "2fd2673774874aa7ad5140ce6af55b7a",
            "1a4e821e80ec400da1f05a5f329cb3a9",
            "578a31d3d0df4b62bf10dc06ea7c7f3d",
            "0332d6cfdaa147d89b135a369d0a6f79",
            "7bb291608f8248b2bb1d656efb2e3fd2",
            "1f3ad0da8ea341038ea1393efda9b55f"
          ]
        },
        "outputId": "fa9b952e-a037-4d6c-fddd-81e6137f35b3"
      },
      "source": [
        "device = torch.device(\"cuda\" if torch.cuda.is_available() else \"cpu\")\n",
        "model = T5ForConditionalGeneration.from_pretrained(\"t5-large\")\n",
        "model.to(device)\n",
        "tokenizer = T5Tokenizer.from_pretrained(\"t5-large\")"
      ],
      "execution_count": 14,
      "outputs": [
        {
          "output_type": "display_data",
          "data": {
            "application/vnd.jupyter.widget-view+json": {
              "model_id": "639b4e494663425db9a2acc08fe059b6",
              "version_minor": 0,
              "version_major": 2
            },
            "text/plain": [
              "HBox(children=(FloatProgress(value=0.0, description='Downloading', max=1200.0, style=ProgressStyle(description…"
            ]
          },
          "metadata": {
            "tags": []
          }
        },
        {
          "output_type": "stream",
          "text": [
            "\n"
          ],
          "name": "stdout"
        },
        {
          "output_type": "display_data",
          "data": {
            "application/vnd.jupyter.widget-view+json": {
              "model_id": "7df3a1706dcd4e8e8d14a7ef53b8f6d2",
              "version_minor": 0,
              "version_major": 2
            },
            "text/plain": [
              "HBox(children=(FloatProgress(value=0.0, description='Downloading', max=2950825948.0, style=ProgressStyle(descr…"
            ]
          },
          "metadata": {
            "tags": []
          }
        },
        {
          "output_type": "stream",
          "text": [
            "\n"
          ],
          "name": "stdout"
        },
        {
          "output_type": "display_data",
          "data": {
            "application/vnd.jupyter.widget-view+json": {
              "model_id": "5ed8307c39fc4799ae22510bab42ef19",
              "version_minor": 0,
              "version_major": 2
            },
            "text/plain": [
              "HBox(children=(FloatProgress(value=0.0, description='Downloading', max=791656.0, style=ProgressStyle(descripti…"
            ]
          },
          "metadata": {
            "tags": []
          }
        },
        {
          "output_type": "stream",
          "text": [
            "\n"
          ],
          "name": "stdout"
        }
      ]
    },
    {
      "cell_type": "code",
      "metadata": {
        "id": "mCgQAB-yvaFf",
        "colab_type": "code",
        "colab": {}
      },
      "source": [
        "summary = []\n",
        "def chunks(lst, n):\n",
        "  \"\"\"Yield successive n-sized chunks from lst.\"\"\"\n",
        "  for i in range(0, len(lst), n):\n",
        "    yield lst[i : i + n]\n",
        "\n",
        "\n",
        "def generate_summaries(lns, batch_size, device):\n",
        "  pp = pprint.PrettyPrinter(indent=0, width=120)\n",
        "\n",
        "  # update config with summarization specific params\n",
        "  task_specific_params = model.config.task_specific_params\n",
        "  if task_specific_params is not None:\n",
        "    model.config.update(task_specific_params.get(\"summarization\", {}))\n",
        "\n",
        "  for batch in list(chunks(lns, batch_size)):\n",
        "    batch = [model.config.prefix + text for text in batch]\n",
        "\n",
        "    dct = tokenizer.batch_encode_plus(batch, max_length=512, return_tensors=\"pt\", pad_to_max_length=True)\n",
        "    input_ids = dct[\"input_ids\"].to(device)\n",
        "    attention_mask = dct[\"attention_mask\"].to(device)\n",
        "\n",
        "    summaries = model.generate(input_ids=input_ids, attention_mask=attention_mask)\n",
        "    dec = [tokenizer.decode(g, skip_special_tokens=True, clean_up_tokenization_spaces=False) for g in summaries]\n",
        "\n",
        "    for hypothesis in dec:\n",
        "      s = pp.pformat(hypothesis)\n",
        "      s = s.replace(\"'\", \"\").replace(\"(\", \"\").replace(\")\", \"\")\n",
        "      summary.append(hypothesis)\n",
        "      print(s, end='\\n')\n",
        "      print(\"=\" * 120)"
      ],
      "execution_count": 0,
      "outputs": []
    },
    {
      "cell_type": "code",
      "metadata": {
        "id": "wjyJlmpkRzAq",
        "colab_type": "code",
        "outputId": "dda59a37-10ef-4603-8762-039c922dfb4d",
        "colab": {
          "base_uri": "https://localhost:8080/",
          "height": 367
        }
      },
      "source": [
        "generate_summaries(news_contents, batch_size=5, device=device)"
      ],
      "execution_count": 29,
      "outputs": [
        {
          "output_type": "stream",
          "text": [
            "the pilot of the jet ejected safely, officials say . an IAF fighter jet crashed into the fields here . the IAF has \n",
            " lost a number of mig 29s in crashes in the last few years .\n",
            "========================================================================================================================\n",
            "government urges people to make COVID-19 prevention guidelines a part of their lives . health ministry says peak of \n",
            " \"disease can be avoided if prescribed dos and donts are followed . peak of the disease in india may be reached in \"\n",
            " June or July, according to modelling data .\n",
            "========================================================================================================================\n",
            "class 10 and 12 exams were postponed due to the COVID-19-induced lockdown . the schedule has been decided in order \n",
            " to ensure that the board exams are completed before competitive examinations . class 10 exams are only pending in \n",
            " north east Delhi where they were affected due to law and order situation .\n",
            "========================================================================================================================\n",
            "brihanmumbai municipal corporation commissioner Pravin pardeshi transferred . he was replaced as Mumbai commissioner \n",
            " by I SChahal, currently additional chief secretary urban development Pardeshi has been posted in the urban \n",
            " \"development department in Chahals place .\"\n",
            "========================================================================================================================\n",
            "the top court asked special judge to control the proceedings in accordance with law . it indicated to the judge to \n",
            " avail the facilities of video conferencing to complete recording of evidences and hearing of applications . the 1992 \n",
            " babri Masjid demolition case involved bjp veterans lk advani, m m joshi and uma bharti .\n",
            "========================================================================================================================\n"
          ],
          "name": "stdout"
        }
      ]
    },
    {
      "cell_type": "code",
      "metadata": {
        "id": "F7MkyMYWLIEY",
        "colab_type": "code",
        "colab": {
          "base_uri": "https://localhost:8080/",
          "height": 124
        },
        "outputId": "2c8f055c-f0ce-4ba4-8a41-ede7f45a024d"
      },
      "source": [
        "summary"
      ],
      "execution_count": 30,
      "outputs": [
        {
          "output_type": "execute_result",
          "data": {
            "text/plain": [
              "['the pilot of the jet ejected safely, officials say . an IAF fighter jet crashed into the fields here . the IAF has lost a number of mig 29s in crashes in the last few years .',\n",
              " \"government urges people to make COVID-19 prevention guidelines a part of their lives . health ministry says peak of disease can be avoided if prescribed dos and don'ts are followed . peak of the disease in india may be reached in June or July, according to modelling data .\",\n",
              " 'class 10 and 12 exams were postponed due to the COVID-19-induced lockdown . the schedule has been decided in order to ensure that the board exams are completed before competitive examinations . class 10 exams are only pending in north east Delhi where they were affected due to law and order situation .',\n",
              " \"brihanmumbai municipal corporation commissioner Pravin pardeshi transferred . he was replaced as Mumbai commissioner by I SChahal, currently additional chief secretary (urban development) Pardeshi has been posted in the urban development department in Chahal's place .\",\n",
              " 'the top court asked special judge to control the proceedings in accordance with law . it indicated to the judge to avail the facilities of video conferencing to complete recording of evidences and hearing of applications . the 1992 babri Masjid demolition case involved bjp veterans lk advani, m m joshi and uma bharti .']"
            ]
          },
          "metadata": {
            "tags": []
          },
          "execution_count": 30
        }
      ]
    },
    {
      "cell_type": "code",
      "metadata": {
        "id": "O6uj4GehMiGY",
        "colab_type": "code",
        "colab": {
          "base_uri": "https://localhost:8080/",
          "height": 345
        },
        "outputId": "339db420-84a3-4d4b-a9e0-95845a33871a"
      },
      "source": [
        "import pandas as pd\n",
        "df = pd.DataFrame({'title':texts[:5],'url':links[:5],'content':news_contents,'summary':summary})\n",
        "df.head()"
      ],
      "execution_count": 31,
      "outputs": [
        {
          "output_type": "execute_result",
          "data": {
            "text/html": [
              "<div>\n",
              "<style scoped>\n",
              "    .dataframe tbody tr th:only-of-type {\n",
              "        vertical-align: middle;\n",
              "    }\n",
              "\n",
              "    .dataframe tbody tr th {\n",
              "        vertical-align: top;\n",
              "    }\n",
              "\n",
              "    .dataframe thead th {\n",
              "        text-align: right;\n",
              "    }\n",
              "</style>\n",
              "<table border=\"1\" class=\"dataframe\">\n",
              "  <thead>\n",
              "    <tr style=\"text-align: right;\">\n",
              "      <th></th>\n",
              "      <th>title</th>\n",
              "      <th>url</th>\n",
              "      <th>content</th>\n",
              "      <th>summary</th>\n",
              "    </tr>\n",
              "  </thead>\n",
              "  <tbody>\n",
              "    <tr>\n",
              "      <th>0</th>\n",
              "      <td>IAF's MiG-29 crashes in Punjab, pilot safe</td>\n",
              "      <td>https://www.rediff.com/news/report/iafs-mig-29...</td>\n",
              "      <td>A Mig-29 multi-role fighter aircraft of the In...</td>\n",
              "      <td>the pilot of the jet ejected safely, officials...</td>\n",
              "    </tr>\n",
              "    <tr>\n",
              "      <th>1</th>\n",
              "      <td>Learn to live with virus, follow guidelines: G...</td>\n",
              "      <td>https://www.rediff.com/news/report/learn-to-li...</td>\n",
              "      <td>\"We have to learn to live with the virus,\" the...</td>\n",
              "      <td>government urges people to make COVID-19 preve...</td>\n",
              "    </tr>\n",
              "    <tr>\n",
              "      <th>2</th>\n",
              "      <td>Class 10, 12 CBSE exams to be held from July 1-15</td>\n",
              "      <td>https://www.rediff.com/news/report/class-10-12...</td>\n",
              "      <td>Pending Class 10 and 12 CBSE exams, which were...</td>\n",
              "      <td>class 10 and 12 exams were postponed due to th...</td>\n",
              "    </tr>\n",
              "    <tr>\n",
              "      <th>3</th>\n",
              "      <td>Mumbai civic chief shunted out amid rising Cov...</td>\n",
              "      <td>https://www.rediff.com/news/report/mumbai-civi...</td>\n",
              "      <td>Amid the growing number of coronavirus cases i...</td>\n",
              "      <td>brihanmumbai municipal corporation commissione...</td>\n",
              "    </tr>\n",
              "    <tr>\n",
              "      <th>4</th>\n",
              "      <td>Finish Babri trial against Advani, Joshi by Au...</td>\n",
              "      <td>https://www.rediff.com/news/report/finish-babr...</td>\n",
              "      <td>The Supreme Court on Friday extended by three ...</td>\n",
              "      <td>the top court asked special judge to control t...</td>\n",
              "    </tr>\n",
              "  </tbody>\n",
              "</table>\n",
              "</div>"
            ],
            "text/plain": [
              "                                               title  ...                                            summary\n",
              "0         IAF's MiG-29 crashes in Punjab, pilot safe  ...  the pilot of the jet ejected safely, officials...\n",
              "1  Learn to live with virus, follow guidelines: G...  ...  government urges people to make COVID-19 preve...\n",
              "2  Class 10, 12 CBSE exams to be held from July 1-15  ...  class 10 and 12 exams were postponed due to th...\n",
              "3  Mumbai civic chief shunted out amid rising Cov...  ...  brihanmumbai municipal corporation commissione...\n",
              "4  Finish Babri trial against Advani, Joshi by Au...  ...  the top court asked special judge to control t...\n",
              "\n",
              "[5 rows x 4 columns]"
            ]
          },
          "metadata": {
            "tags": []
          },
          "execution_count": 31
        }
      ]
    },
    {
      "cell_type": "code",
      "metadata": {
        "id": "DxzvZONFNVY8",
        "colab_type": "code",
        "colab": {}
      },
      "source": [
        "#export the csv\n",
        "df.to_csv('news_summaries.csv')"
      ],
      "execution_count": 0,
      "outputs": []
    },
    {
      "cell_type": "code",
      "metadata": {
        "id": "MbuZL4tlzGd5",
        "colab_type": "code",
        "outputId": "b4e3808e-caee-4694-8e87-4ba0b9fa890f",
        "colab": {
          "base_uri": "https://localhost:8080/",
          "height": 295
        }
      },
      "source": [
        "!nvidia-smi"
      ],
      "execution_count": 17,
      "outputs": [
        {
          "output_type": "stream",
          "text": [
            "Fri May  8 16:41:14 2020       \n",
            "+-----------------------------------------------------------------------------+\n",
            "| NVIDIA-SMI 440.82       Driver Version: 418.67       CUDA Version: 10.1     |\n",
            "|-------------------------------+----------------------+----------------------+\n",
            "| GPU  Name        Persistence-M| Bus-Id        Disp.A | Volatile Uncorr. ECC |\n",
            "| Fan  Temp  Perf  Pwr:Usage/Cap|         Memory-Usage | GPU-Util  Compute M. |\n",
            "|===============================+======================+======================|\n",
            "|   0  Tesla T4            Off  | 00000000:00:04.0 Off |                    0 |\n",
            "| N/A   46C    P0    34W /  70W |   4865MiB / 15079MiB |      0%      Default |\n",
            "+-------------------------------+----------------------+----------------------+\n",
            "                                                                               \n",
            "+-----------------------------------------------------------------------------+\n",
            "| Processes:                                                       GPU Memory |\n",
            "|  GPU       PID   Type   Process name                             Usage      |\n",
            "|=============================================================================|\n",
            "+-----------------------------------------------------------------------------+\n"
          ],
          "name": "stdout"
        }
      ]
    },
    {
      "cell_type": "code",
      "metadata": {
        "id": "tzae4f0rzHwW",
        "colab_type": "code",
        "colab": {}
      },
      "source": [
        ""
      ],
      "execution_count": 0,
      "outputs": []
    }
  ]
}